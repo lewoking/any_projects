{
 "cells": [
  {
   "cell_type": "code",
   "execution_count": 1,
   "metadata": {},
   "outputs": [
    {
     "name": "stdout",
     "output_type": "stream",
     "text": [
      "OK\n",
      "4\n"
     ]
    },
    {
     "data": {
      "text/plain": "''"
     },
     "execution_count": 1,
     "metadata": {},
     "output_type": "execute_result"
    }
   ],
   "source": [
    "import pyautogui\n",
    " \n",
    "# 显示一个简单的带文字和OK按钮的消息弹窗。用户点击后返回button的文字。\n",
    "pyautogui.alert(text='', title='', button='OK')\n",
    "b = pyautogui.alert(text='要开始程序么？', title='请求框', button='OK')\n",
    "print(b) # 输出结果为OK\n",
    " \n",
    "# 显示一个简单的带文字、OK和Cancel按钮的消息弹窗，用户点击后返回被点击button的文字，支持自定义数字、文字的列表。\n",
    "pyautogui.confirm(text='', title='', buttons=['OK', 'Cancel']) # OK和Cancel按钮的消息弹窗\n",
    "pyautogui.confirm(text='', title='', buttons=range(10)) # 10个按键0-9的消息弹窗\n",
    "a = pyautogui.confirm(text='', title='', buttons=range(10))\n",
    "print(a) # 输出结果为你选的数字\n",
    " \n",
    "# 可以输入的消息弹窗，带OK和Cancel按钮。用户点击OK按钮返回输入的文字，点击Cancel按钮返回None。\n",
    "pyautogui.prompt(text='', title='', default='')\n",
    " \n",
    "# 样式同prompt()，用于输入密码，消息用*表示。带OK和Cancel按钮。用户点击OK按钮返回输入的文字，点击Cancel按钮返回None。\n",
    "pyautogui.password(text='', title='', default='', mask='*')"
   ]
  }
 ],
 "metadata": {
  "kernelspec": {
   "display_name": "Python 3.8.2 64-bit",
   "name": "python382jvsc74a57bd031f2aee4e71d21fbe5cf8b01ff0e069b9275f58929596ceb00d14d90e3e16cd6"
  },
  "language_info": {
   "codemirror_mode": {
    "name": "ipython",
    "version": 3
   },
   "file_extension": ".py",
   "mimetype": "text/x-python",
   "name": "python",
   "nbconvert_exporter": "python",
   "pygments_lexer": "ipython3",
   "version": "3.8.2"
  },
  "metadata": {
   "interpreter": {
    "hash": "31f2aee4e71d21fbe5cf8b01ff0e069b9275f58929596ceb00d14d90e3e16cd6"
   }
  },
  "orig_nbformat": 2
 },
 "nbformat": 4,
 "nbformat_minor": 2
}